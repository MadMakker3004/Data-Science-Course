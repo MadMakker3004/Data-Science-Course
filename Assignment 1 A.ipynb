{
 "cells": [
  {
   "cell_type": "code",
   "execution_count": 1,
   "id": "3412585d",
   "metadata": {},
   "outputs": [
    {
     "name": "stdout",
     "output_type": "stream",
     "text": [
      "Twinkle, twinkle, little star,\n",
      "\tHow I wonder what you are!\n",
      "\t\tUp above the world so high,\n",
      "\t\tLike a diamond in the sky.\n",
      "Twinkle, twinkle, little star,\n",
      "\tHow I wonder what you are\n"
     ]
    }
   ],
   "source": [
    "print(\"Twinkle, twinkle, little star,\\n\\tHow I wonder what you are!\\n\\t\\tUp above the world so high,\\n\\t\\tLike a diamond in the sky.\\nTwinkle, twinkle, little star,\\n\\tHow I wonder what you are\")"
   ]
  },
  {
   "cell_type": "code",
   "execution_count": 2,
   "id": "96e90580",
   "metadata": {},
   "outputs": [
    {
     "name": "stdout",
     "output_type": "stream",
     "text": [
      "3.8.8 (default, Apr 13 2021, 15:08:03) [MSC v.1916 64 bit (AMD64)]\n"
     ]
    }
   ],
   "source": [
    "import sys\n",
    "print(sys.version)"
   ]
  },
  {
   "cell_type": "code",
   "execution_count": 3,
   "id": "ccfb20b7",
   "metadata": {},
   "outputs": [
    {
     "name": "stdout",
     "output_type": "stream",
     "text": [
      "Today's date: 2022-01-01-18:29:02\n"
     ]
    }
   ],
   "source": [
    "from datetime import datetime\n",
    "\n",
    "#today = datetime.today\n",
    "print(\"Today's date:\", datetime.today().strftime('%Y-%m-%d-%H:%M:%S'))"
   ]
  },
  {
   "cell_type": "code",
   "execution_count": 4,
   "id": "5f271126",
   "metadata": {},
   "outputs": [
    {
     "name": "stdout",
     "output_type": "stream",
     "text": [
      "please enter radiys of circle to calculate input4\n",
      "50.24\n"
     ]
    }
   ],
   "source": [
    "radius = int(input(\"please enter radiys of circle to calculate input\"))\n",
    "area = 3.14 * int(radius * radius)\n",
    "print(area)"
   ]
  },
  {
   "cell_type": "code",
   "execution_count": 5,
   "id": "278978b1",
   "metadata": {},
   "outputs": [
    {
     "name": "stdout",
     "output_type": "stream",
     "text": [
      "Please enter your first nameAli\n",
      "Please enter your last nameHassan\n",
      "Hassan Ali\n"
     ]
    }
   ],
   "source": [
    "firstName = input(\"Please enter your first name\")\n",
    "lastName=input(\"Please enter your last name\")\n",
    "print(lastName + \" \" + firstName)"
   ]
  },
  {
   "cell_type": "code",
   "execution_count": 6,
   "id": "8bae876d",
   "metadata": {},
   "outputs": [
    {
     "name": "stdout",
     "output_type": "stream",
     "text": [
      "Please enter first number34\n",
      "Please enter second number23\n",
      "57\n"
     ]
    }
   ],
   "source": [
    "num1 = int(input(\"Please enter first number\"))\n",
    "num2 = int(input(\"Please enter second number\"))\n",
    "print(num1 + num2)"
   ]
  },
  {
   "cell_type": "code",
   "execution_count": null,
   "id": "60cbf962",
   "metadata": {},
   "outputs": [],
   "source": [
    "\n"
   ]
  }
 ],
 "metadata": {
  "kernelspec": {
   "display_name": "Python 3",
   "language": "python",
   "name": "python3"
  },
  "language_info": {
   "codemirror_mode": {
    "name": "ipython",
    "version": 3
   },
   "file_extension": ".py",
   "mimetype": "text/x-python",
   "name": "python",
   "nbconvert_exporter": "python",
   "pygments_lexer": "ipython3",
   "version": "3.8.8"
  }
 },
 "nbformat": 4,
 "nbformat_minor": 5
}
